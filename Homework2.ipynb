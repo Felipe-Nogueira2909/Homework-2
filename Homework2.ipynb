{
  "cells": [
    {
      "cell_type": "markdown",
      "metadata": {
        "id": "E-z8gRdnAznI"
      },
      "source": [
        "### CÓDIGOS PARA O HOMEWORK 2\n",
        "\n",
        "**Alunos:** Felipe Sousa Nogueira, Daniel Chaves Alcantara.\n",
        "**Matrícula:** 509109, 536359."
      ]
    },
    {
      "cell_type": "code",
      "execution_count": null,
      "metadata": {
        "id": "iTK4nwfYAvQN"
      },
      "outputs": [],
      "source": [
        "#!pip install control\n",
        "#!pip install scipy\n",
        "\n",
        "#Bibliotecas usadas:\n",
        "import pandas as pd\n",
        "import matplotlib.pyplot as plt\n",
        "import numpy as np\n",
        "import control as ctrl\n",
        "import scipy.signal as signal"
      ]
    },
    {
      "cell_type": "markdown",
      "metadata": {
        "id": "Zgn5ILfNBQ1Y"
      },
      "source": [
        "Q01:\n",
        "\n",
        "1)"
      ]
    },
    {
      "cell_type": "code",
      "execution_count": null,
      "metadata": {
        "id": "7IR4l7c2BQiE"
      },
      "outputs": [],
      "source": [
        "df_systemA = pd.read_csv('HW2_ex1_dataA.csv') # Primeira linha de cada coluna alterada para 't' e 'y_' para melhor entendimento\n",
        "df_systemB = pd.read_csv('HW2_ex2_dataA.csv') # Primeira linha de cada coluna alterada para 't' e 'y_' para melhor entendimento\n",
        "\n",
        "# Gráfico Sistema A.\n",
        "plt.figure(figsize=(10,6))\n",
        "plt.plot(df_systemA['t'], df_systemA['y_t'], label= 'Sistema A.')\n",
        "plt.xlabel('tempo(t)')\n",
        "plt.ylabel('Resposta (y(t))')\n",
        "plt.title('Resposta do sistema ao longo do tempo.')\n",
        "plt.legend()\n",
        "plt.grid(True)\n",
        "\n",
        "plt.show()\n",
        "\n",
        "#Gráfico sistema B.\n",
        "plt.plot(df_systemB['t'], df_systemB['y_t'], label= 'Sistema B.')\n",
        "plt.xlabel('tempo(t)')\n",
        "plt.ylabel('Resposta (y(t))')\n",
        "plt.title('Resposta do sistema ao longo do tempo.')\n",
        "plt.legend()\n",
        "plt.grid(True)\n",
        "\n",
        "plt.show()"
      ]
    },
    {
      "cell_type": "markdown",
      "metadata": {
        "id": "x1Gq_Ud0BZhJ"
      },
      "source": [
        "2)"
      ]
    },
    {
      "cell_type": "code",
      "execution_count": null,
      "metadata": {
        "id": "TQvYf5TIBfcj"
      },
      "outputs": [],
      "source": [
        "print(\"-\"*10, \"SISTEMA A\", \"-\"*10)\n",
        "#SISTEMA A (PRIMEIRA ORDEM):\n",
        "#Tempo de subida para os sistemas A:\n",
        "peak_value_systemA = df_systemA['y_t'].max() # O valor de pico é o valor máximo de y(t)\n",
        "steady_state_value_systemA = df_systemA['y_t'].iloc[-1] # valor em regime permanente\n",
        "\n",
        "# Calculamos 10% e 90% do valor de pico\n",
        "ten_percent_peak = 0.1 * peak_value_systemA\n",
        "ninety_percent_peak = 0.9 * peak_value_systemA\n",
        "\n",
        "t_rise_start = df_systemA['t'][df_systemA['y_t'] >= ten_percent_peak].iloc[0] # O tempo correspondente a 10% do valor de pico\n",
        "t_rise_end = df_systemA['t'][df_systemA['y_t'] >= ninety_percent_peak].iloc[0] # O tempo correspondente a 90% do valor de pico\n",
        "\n",
        "# Calculamos o tempo de subida (Rise Time)\n",
        "rise_time_systemA = t_rise_end - t_rise_start\n",
        "print(f\"Tempo de subida do sistema A é: {rise_time_systemA:.3f} segundos\")\n",
        "\n",
        "#Percent OverShoot:\n",
        "# Calculamos o Overshoot Percentual (%OS)\n",
        "percent_overshoot_systemA = ((peak_value_systemA - steady_state_value_systemA) / steady_state_value_systemA) * 100\n",
        "print(f\"Percentual de Overshoot do sistema A é:: {percent_overshoot_systemA:.2f}%\")\n",
        "\n",
        "#Tempo de pico:\n",
        "tp_systemA = df_systemA['t'][df_systemA['y_t'] == peak_value_systemA].iloc[0]\n",
        "print(f\"Tempo de Pico (Tp) do sistema A: {tp_systemA:.3f} segundos\")\n",
        "\n",
        "#Tempo de estabelecimento:\n",
        "# Calculamos a faixa de tolerância (2% em torno do valor de regime permanente)\n",
        "tolerance_lower_bound = 0.98 * steady_state_value_systemA\n",
        "tolerance_upper_bound = 1.02 * steady_state_value_systemA\n",
        "ts_systemA = df_systemA['t'][(df_systemA['y_t'] >= tolerance_lower_bound) & (df_systemA['y_t'] <= tolerance_upper_bound)].iloc[-1]\n",
        "\n",
        "print(f\"Tempo de Estabelecimento (Ts)para o sistema A: {ts_systemA:.3f} segundos\")\n",
        "#Constante de tempo:\n",
        "valor_final = df_systemA[\"y_t\"].iloc[-1]\n",
        "\n",
        "# Calcular 63,2% do valor final\n",
        "valor_final_63 = 0.632 * valor_final\n",
        "\n",
        "# Encontrar o tempo correspondente ao valor 63,2%\n",
        "constante_de_tempo = df_systemA.loc[df_systemA[\"y_t\"] >= valor_final_63, \"t\"].iloc[0]\n",
        "print(f\"Constante de tempo: {constante_de_tempo:.2f} segundos.\")\n",
        "\n",
        "print(\"-\"*10, \"SISTEMA B\", \"-\"*10)\n",
        "#SISTEMA B (SEGUNDA ORDEM):\n",
        "#Rise time para os sistemas B:\n",
        "peak_value_systemB = df_systemB['y_t'].max() # Valor de pico:\n",
        "steady_state_value_systemB = df_systemB['y_t'].iloc[-1] # Valor em regime permanente\n",
        "\n",
        "# Calculamos 10% e 90% do valor de pico\n",
        "ten_percent_peak_B = 0.1 * peak_value_systemB\n",
        "ninety_percent_peak_B = 0.9 * peak_value_systemB\n",
        "\n",
        "t_rise_start_B = df_systemB['t'][df_systemB['y_t'] >= ten_percent_peak_B].iloc[0]\n",
        "t_rise_end_B = df_systemB['t'][df_systemB['y_t'] >= ninety_percent_peak_B].iloc[0]\n",
        "\n",
        "# Calculamos o tempo de subida (Rise Time)\n",
        "rise_time_systemB = t_rise_end_B - t_rise_start_B\n",
        "print(f\"Tempo de subida do sistema B é: {rise_time_systemB:.3f} segundos\")\n",
        "\n",
        "#Percent OverShoot:\n",
        "# Calculamos o Overshoot Percentual (%OS)\n",
        "percent_overshoot_systemB = ((peak_value_systemB - steady_state_value_systemB) / steady_state_value_systemB) * 100\n",
        "print(f\"Percentual de Overshoot do sistema B é:: {percent_overshoot_systemB:.2f}%\")\n",
        "\n",
        "#Tempo de pico:\n",
        "tp_systemB = df_systemB['t'][df_systemB['y_t'] == peak_value_systemB].iloc[0]\n",
        "print(f\"Tempo de Pico (Tp) do sistema B: {tp_systemB:.3f} segundos\")\n",
        "\n",
        "#Tempo de estabelecimento:\n",
        "# Calculamos a faixa de tolerância (2% em torno do valor de regime permanente)\n",
        "tolerance_lower_bound_B = 0.98 * steady_state_value_systemB\n",
        "tolerance_upper_bound_B = 1.02 * steady_state_value_systemB\n",
        "\n",
        "# Identificamos o tempo de estabelecimento (Ts)\n",
        "ts_systemB = df_systemB['t'][(df_systemB['y_t'] >= tolerance_lower_bound_B) & (df_systemB['y_t'] <= tolerance_upper_bound_B)].iloc[-1]\n",
        "print(f\"Tempo de Estabelecimento (Ts)para o sistema B: {ts_systemB:.3f} segundos\")\n",
        "\n",
        "#OmegaD:\n",
        "omega_d_systemB = 2 * np.pi / tp_systemB\n",
        "print(f\"Wd: {omega_d_systemB:.3f}\")\n",
        "#zeta:\n",
        "zeta_systemB = -np.log(percent_overshoot_systemB / 100) / np.sqrt(np.pi**2 + (np.log(percent_overshoot_systemB / 100))**2)\n",
        "print(f\"ζ: {zeta_systemB:.3f}\")\n",
        "#omegaN:\n",
        "omega_n_systemB = np.pi / (tp_systemB * np.sqrt(1 - zeta_systemB**2))\n",
        "print(f\"Wn: {omega_n_systemB:.3f}\")\n",
        "#Ganho:\n",
        "K_B = steady_state_value_systemB * (omega_n_systemB ** 2)\n",
        "\n",
        "numerator_systemB = [K_B]\n",
        "denominator_systemB = [1, 2*zeta_systemB*omega_n_systemB, omega_n_systemB**2]\n",
        "\n",
        "#Definir a função de transferência\n",
        "G_A = ctrl.TransferFunction(numerator_systemB, denominator_systemB)\n",
        "print(f\"Função de transferência do sistema B:{G_A}\")\n",
        "\n",
        "a = 1/constante_de_tempo\n",
        "K_B = 120 * a\n",
        "G_B = ctrl.TransferFunction(K_B, [1, a])\n",
        "print(f\"Função de transferência do sistema A:{G_B}\")\n",
        "\n",
        "\n"
      ]
    },
    {
      "cell_type": "markdown",
      "metadata": {
        "id": "Ve62r6VaByww"
      },
      "source": [
        "3)"
      ]
    },
    {
      "cell_type": "code",
      "execution_count": null,
      "metadata": {
        "id": "phHcqHj1BzoB"
      },
      "outputs": [],
      "source": [
        "#Sistema B.\n",
        "TB_s = signal.TransferFunction(numerator_systemB, denominator_systemB)\n",
        "tempo_TB, resposta_TB = signal.step(TB_s)\n",
        "# Plotamos a comparação entre a resposta ao degrau do sistema TA(s) e dos dados fornecidos\n",
        "plt.figure(figsize=(10, 6))\n",
        "plt.plot(df_systemB['t'], df_systemB['y_t'], label='Sistema B', color='blue')\n",
        "plt.plot(tempo_TB, resposta_TB, label='Sistema TB(s)', color='red', linestyle='--')\n",
        "plt.title('Comparação das Respostas ao Degrau: Sistema B vs TB(s)')\n",
        "plt.xlabel('Tempo (s)')\n",
        "plt.ylabel('Resposta (y(t))')\n",
        "plt.legend()\n",
        "plt.grid(True)\n",
        "plt.show()\n",
        "\n",
        "#SistemaA.\n",
        "numerator_systemA = [16.2]\n",
        "denominator_systemA = [1, 0.135]\n",
        "TA_s = ctrl.TransferFunction(numerator_systemA, denominator_systemA)\n",
        "\n",
        "# Calculando a resposta ao degrau unitário\n",
        "tempo_TA, resposta_TA = ctrl.step_response(TA_s)\n",
        "# Plotando a comparação entre a resposta ao degrau do sistema G(s) e os dados fornecidos\n",
        "plt.figure(figsize=(10, 6))\n",
        "plt.plot(df_systemA['t'], df_systemA['y_t'], label='Sistema A', color='blue')\n",
        "plt.plot(tempo_TA, resposta_TA, label='Sistema TA(s)', color='red', linestyle='--')\n",
        "plt.title('Comparação das Respostas ao Degrau: Sistema TA(s) vs Sistema A')\n",
        "plt.xlabel('Tempo (s)')\n",
        "plt.ylabel('Resposta (y(t))')\n",
        "plt.legend()\n",
        "plt.grid(True)\n",
        "plt.show()"
      ]
    },
    {
      "cell_type": "markdown",
      "metadata": {
        "id": "EPV_NRHuFfb9"
      },
      "source": [
        "Q02:\n",
        "\n",
        "1)"
      ]
    },
    {
      "cell_type": "code",
      "execution_count": null,
      "metadata": {
        "id": "yl8ySpS-FhBk"
      },
      "outputs": [],
      "source": [
        "# Para T = 0.5\n",
        "num1 = [0.5, 1]\n",
        "den1 = [0.0002, 0.0040, 0.12, 1.02, 0.22, 1]\n",
        "sistema1 = signal.TransferFunction(num1, den1)\n",
        "\n",
        "num1menor = [0.5, 1]\n",
        "den1menor = [1, 0.1, 1]\n",
        "sistema1menor = signal.TransferFunction(num1menor, den1menor)\n",
        "\n",
        "# Obter a resposta em degrau\n",
        "time, response = signal.step(sistema1)\n",
        "time2, response2 = signal.step(sistema1menor)\n",
        "\n",
        "\n",
        "plt.figure(figsize=(8, 6))\n",
        "ctrl.pzmap(ctrl.TransferFunction(num1, den1), title=\"Mapa de Polos e Zeros para T = 0.5\", plot=True)\n",
        "plt.grid(True)\n",
        "plt.xlim(-25, 25)\n",
        "plt.show()\n",
        "\n",
        "\n",
        "plt.figure(figsize=(10, 6))\n",
        "plt.plot(time, response, label='Sistema Completo')\n",
        "plt.plot(time2, response2, label='Sistema de Menor Ordem', linestyle='--')\n",
        "plt.title(\"Resposta em Degrau do Sistema Equivalente para T = 0.5\")\n",
        "plt.xlabel(\"Tempo (s)\")\n",
        "plt.ylabel(\"Amplitude\")\n",
        "plt.legend()\n",
        "plt.grid(True)\n",
        "plt.show()"
      ]
    },
    {
      "cell_type": "code",
      "execution_count": null,
      "metadata": {
        "id": "5mfegViUF_9u"
      },
      "outputs": [],
      "source": [
        "# Para T = 20\n",
        "num2 = [20, 1]\n",
        "den2 = [0.0002, 0.0040, 0.12, 1.02, 0.22, 1]\n",
        "sistema2 = signal.TransferFunction(num2, den2)\n",
        "\n",
        "# Numerador e denominador da função de transferência simplificada, por meio dos polos dominantes.\n",
        "num2menor = [20, 1]\n",
        "den2menor = [1, 0.1, 1]\n",
        "sistema2menor = signal.TransferFunction(num2menor, den2menor)\n",
        "\n",
        "# Obter a resposta em degrau\n",
        "time3, response3 = signal.step(sistema2)\n",
        "time4, response4 = signal.step(sistema2menor)\n",
        "\n",
        "# Plot do mapa de polos e zeros\n",
        "plt.figure(figsize=(8, 6))\n",
        "ctrl.pzmap(ctrl.TransferFunction(num2, den2), title=\"Mapa de Polos e Zeros para T = 20\", plot=True)\n",
        "plt.grid(True)\n",
        "plt.xlim(-25, 25)\n",
        "plt.show()\n",
        "\n",
        "plt.figure(figsize=(10, 6))\n",
        "plt.plot(time3, response3, label='Sistema Completo')\n",
        "plt.plot(time4, response4, label='Sistema de Menor Ordem', linestyle='--')\n",
        "plt.title(\"Resposta em Degrau do Sistema Equivalente para T = 20\")\n",
        "plt.xlabel(\"Tempo (s)\")\n",
        "plt.ylabel(\"Amplitude\")\n",
        "plt.legend()\n",
        "plt.grid(True)\n",
        "plt.show()"
      ]
    },
    {
      "cell_type": "markdown",
      "metadata": {
        "id": "lOKEyhfhODdr"
      },
      "source": [
        "Q03:"
      ]
    },
    {
      "cell_type": "code",
      "execution_count": null,
      "metadata": {
        "id": "QMIhj2GWOFCV"
      },
      "outputs": [],
      "source": [
        "# Definindo a função de transferência: Numerador e Denominador\n",
        "numerator = [2, 0]  # Exemplo: 2s + 0 (não há termo constante, então o zero está em s = 0)\n",
        "denominator = [1, 2, 5]  # s^2 + 2s + 5 (polos complexos conjugados)\n",
        "\n",
        "# Obtendo os polos e zeros\n",
        "system = signal.TransferFunction(numerator, denominator)\n",
        "poles = system.poles\n",
        "zeros = system.zeros\n",
        "\n",
        "# Plotando o mapa de polos e zeros\n",
        "plt.figure(figsize=(8, 8))\n",
        "plt.scatter(np.real(poles), np.imag(poles), color='red', marker='x', s=100, label='Polos')\n",
        "plt.scatter(np.real(zeros), np.imag(zeros), color='blue', marker='o', s=100, label='Zeros')\n",
        "plt.axhline(0, color='black', lw=0.5)\n",
        "plt.axvline(0, color='black', lw=0.5)\n",
        "plt.xlabel('Parte Real')\n",
        "plt.ylabel('Parte Imaginária')\n",
        "plt.title('Mapa de Polos e Zeros para a função de transferência G(s).')\n",
        "plt.grid(True)\n",
        "plt.legend()\n",
        "plt.xlim([-5, 5])\n",
        "plt.ylim([-5, 5])\n",
        "plt.show()\n"
      ]
    },
    {
      "cell_type": "markdown",
      "metadata": {
        "id": "NyiWAJjxGkJV"
      },
      "source": [
        "Q04:"
      ]
    },
    {
      "cell_type": "code",
      "execution_count": null,
      "metadata": {
        "id": "GRLdbqXxGlZD"
      },
      "outputs": [],
      "source": [
        "k = 4800/7\n",
        "numerador = [k, k * 7]\n",
        "denominador = [1, 25, 196, 480 + k, 7 * k]\n",
        "\n",
        "# Função de transferência de malha fechada\n",
        "Ts = signal.TransferFunction(numerador, denominador)\n",
        "\n",
        "# Plotar a resposta ao degrau para T(s)\n",
        "t, y = signal.step(Ts)\n",
        "\n",
        "plt.figure(figsize=(10, 6))\n",
        "plt.plot(t, y, label='Resposta ao Degrau de T(s)')\n",
        "plt.title('Resposta ao Degrau para T(s)')\n",
        "plt.xlabel('Tempo (s)')\n",
        "plt.ylabel('Amplitude')\n",
        "plt.grid(True)\n",
        "plt.legend()\n",
        "plt.show()"
      ]
    }
  ],
  "metadata": {
    "colab": {
      "provenance": []
    },
    "kernelspec": {
      "display_name": "Python 3",
      "name": "python3"
    },
    "language_info": {
      "name": "python"
    }
  },
  "nbformat": 4,
  "nbformat_minor": 0
}
